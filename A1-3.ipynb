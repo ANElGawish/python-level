{
 "cells": [
  {
   "cell_type": "markdown",
   "metadata": {},
   "source": [
    "# Assignment 3"
   ]
  },
  {
   "cell_type": "markdown",
   "metadata": {},
   "source": [
    "### Write a function to count the number 4 in a given list."
   ]
  },
  {
   "cell_type": "code",
   "execution_count": 41,
   "metadata": {},
   "outputs": [
    {
     "name": "stdout",
     "output_type": "stream",
     "text": [
      "please enter the number of elements:5\n",
      "please enter the numbers 1:4\n",
      "please enter the numbers 2:4\n",
      "please enter the numbers 3:4\n",
      "please enter the numbers 4:4\n",
      "please enter the numbers 5:4\n"
     ]
    },
    {
     "data": {
      "text/plain": [
       "5"
      ]
     },
     "execution_count": 41,
     "metadata": {},
     "output_type": "execute_result"
    }
   ],
   "source": [
    "\n",
    "def l(l):\n",
    "    count=0\n",
    "    for i in range (0,len(l)):\n",
    "        if l[i] == 4:\n",
    "            count=count+1  \n",
    "    return count\n",
    "lis=[]\n",
    "n= int(input(\"please enter the number of elements:\"))\n",
    "for ii in range (0,n):\n",
    "    li=int(input (f\"please enter the numbers {ii+1}:\"))\n",
    "    lis.append(li)\n",
    "\n",
    "l(lis)"
   ]
  },
  {
   "cell_type": "code",
   "execution_count": 4,
   "metadata": {},
   "outputs": [
    {
     "data": {
      "text/plain": [
       "2"
      ]
     },
     "execution_count": 4,
     "metadata": {},
     "output_type": "execute_result"
    }
   ],
   "source": [
    "def l(l):\n",
    "    count=0\n",
    "    for i in range (0,len(l)):\n",
    "        if l[i] == 4:\n",
    "            count=count+1  \n",
    "    return count\n",
    "\n",
    "l([22,4,5,6,7,4,3,2,1,\"ahmed\"])\n"
   ]
  },
  {
   "cell_type": "markdown",
   "metadata": {},
   "source": [
    "# write a  function to check whether a number is divisible by another number."
   ]
  },
  {
   "cell_type": "code",
   "execution_count": 94,
   "metadata": {},
   "outputs": [
    {
     "name": "stdout",
     "output_type": "stream",
     "text": [
      "no 1 isn't divisble by 2\n"
     ]
    }
   ],
   "source": [
    "def no_D_test (n1,n2):\n",
    "    n3= n1 / n2\n",
    "    if n3 == int(n3):\n",
    "        print(f'{n1} is divisble by {n2} and equals {n3}')\n",
    "    else:\n",
    "        print(f\"no {n1} isn't divisble by {n2}\")\n",
    "no_D_test(1,2)"
   ]
  },
  {
   "cell_type": "code",
   "execution_count": 96,
   "metadata": {},
   "outputs": [
    {
     "name": "stdout",
     "output_type": "stream",
     "text": [
      "please enter the first tnumber:5\n",
      "Please enter the second number5\n",
      "5 is divisble by 5 and equals 1\n"
     ]
    }
   ],
   "source": [
    "def no_D_test (n1,n2):\n",
    "    n3= n1 / n2\n",
    "    if n3 == int(n3):\n",
    "        print(f'{n1} is divisble by {n2} and equals {int(n3)}')\n",
    "    else:\n",
    "        print(f\"no {n1} isn't divisble by {n2}\")\n",
    "no_D_test(int(input(\"please enter the first tnumber:\")),int(input(\"Please enter the second number\")))"
   ]
  },
  {
   "cell_type": "markdown",
   "metadata": {},
   "source": [
    "### write a function to find the maximum and minimum numbers from a sequence of numbers."
   ]
  },
  {
   "cell_type": "code",
   "execution_count": 15,
   "metadata": {},
   "outputs": [
    {
     "name": "stdout",
     "output_type": "stream",
     "text": [
      "please enter the number of elements\n"
     ]
    },
    {
     "ename": "ValueError",
     "evalue": "invalid literal for int() with base 10: ''",
     "output_type": "error",
     "traceback": [
      "\u001b[1;31m---------------------------------------------------------------------------\u001b[0m",
      "\u001b[1;31mValueError\u001b[0m                                Traceback (most recent call last)",
      "\u001b[1;32m~\\AppData\\Local\\Temp/ipykernel_1920/4194909442.py\u001b[0m in \u001b[0;36m<module>\u001b[1;34m\u001b[0m\n\u001b[0;32m      9\u001b[0m     \u001b[1;32mreturn\u001b[0m \u001b[0mx\u001b[0m\u001b[1;33m,\u001b[0m\u001b[0my\u001b[0m\u001b[1;33m\u001b[0m\u001b[1;33m\u001b[0m\u001b[0m\n\u001b[0;32m     10\u001b[0m \u001b[0mseq\u001b[0m\u001b[1;33m=\u001b[0m\u001b[1;33m[\u001b[0m\u001b[1;33m]\u001b[0m\u001b[1;33m\u001b[0m\u001b[1;33m\u001b[0m\u001b[0m\n\u001b[1;32m---> 11\u001b[1;33m \u001b[0mn\u001b[0m\u001b[1;33m=\u001b[0m \u001b[0mint\u001b[0m\u001b[1;33m(\u001b[0m\u001b[0minput\u001b[0m\u001b[1;33m(\u001b[0m\u001b[1;34m\"please enter the number of elements\"\u001b[0m\u001b[1;33m)\u001b[0m\u001b[1;33m)\u001b[0m\u001b[1;33m\u001b[0m\u001b[1;33m\u001b[0m\u001b[0m\n\u001b[0m\u001b[0;32m     12\u001b[0m \u001b[1;32mfor\u001b[0m \u001b[0mi\u001b[0m \u001b[1;32min\u001b[0m \u001b[0mrange\u001b[0m \u001b[1;33m(\u001b[0m\u001b[1;36m0\u001b[0m\u001b[1;33m,\u001b[0m\u001b[0mn\u001b[0m\u001b[1;33m)\u001b[0m\u001b[1;33m:\u001b[0m\u001b[1;33m\u001b[0m\u001b[1;33m\u001b[0m\u001b[0m\n\u001b[0;32m     13\u001b[0m     \u001b[0mse\u001b[0m\u001b[1;33m=\u001b[0m\u001b[0mint\u001b[0m\u001b[1;33m(\u001b[0m\u001b[0minput\u001b[0m \u001b[1;33m(\u001b[0m\u001b[1;34mf\"please enter the number {i+1}:\"\u001b[0m\u001b[1;33m)\u001b[0m\u001b[1;33m)\u001b[0m\u001b[1;33m\u001b[0m\u001b[1;33m\u001b[0m\u001b[0m\n",
      "\u001b[1;31mValueError\u001b[0m: invalid literal for int() with base 10: ''"
     ]
    }
   ],
   "source": [
    "def s (seq):\n",
    "    x=seq[0]\n",
    "    y=seq[0]\n",
    "    for i in range (0,len(seq)):\n",
    "        if seq[i] > x:\n",
    "            x=seq[i]\n",
    "        elif seq[i]< y:\n",
    "            y=seq[i]\n",
    "    return x,y\n",
    "seq=[]\n",
    "n= int(input(\"please enter the number of elements\"))\n",
    "for i in range (0,n):\n",
    "    se=int(input (f\"please enter the number {i+1}:\"))\n",
    "    seq.append(se)\n",
    "s(seq)"
   ]
  },
  {
   "cell_type": "markdown",
   "metadata": {},
   "source": [
    "# Write a Python function that takes two lists and returns True if they have at least one common member."
   ]
  },
  {
   "cell_type": "code",
   "execution_count": 13,
   "metadata": {},
   "outputs": [
    {
     "data": {
      "text/plain": [
       "('true', [1, 2, 3, 4, 5, 6, 7], [1, 9, 10, 11, 12])"
      ]
     },
     "execution_count": 13,
     "metadata": {},
     "output_type": "execute_result"
    }
   ],
   "source": [
    "def l(x1,x2):\n",
    "    result=\"false\"\n",
    "    for i in x1:\n",
    "        for q in x2:\n",
    "            if i==q:\n",
    "                result=\"true\"\n",
    "    return result,x1,x2\n",
    "l([1,2,3,4,5,6,7],[1,9,10,11,12])"
   ]
  },
  {
   "cell_type": "markdown",
   "metadata": {},
   "source": [
    "### Write a Python function to calculate the factorial of a number (a non-negative integer). The function accepts the number from the user"
   ]
  },
  {
   "cell_type": "code",
   "execution_count": 19,
   "metadata": {},
   "outputs": [
    {
     "data": {
      "text/plain": [
       "24"
      ]
     },
     "execution_count": 19,
     "metadata": {},
     "output_type": "execute_result"
    }
   ],
   "source": [
    "def factorial(x):\n",
    "    if x == 1:\n",
    "        return 1\n",
    "    else:\n",
    "        return x* factorial(x-1)\n",
    "factorial(4)"
   ]
  },
  {
   "cell_type": "markdown",
   "metadata": {},
   "source": [
    "### Write a Python function to check whether a number is in a given range.\n",
    "\n",
    "### The range is from 3 to 11\n"
   ]
  },
  {
   "cell_type": "code",
   "execution_count": 28,
   "metadata": {},
   "outputs": [
    {
     "name": "stdout",
     "output_type": "stream",
     "text": [
      "enter number:11\n",
      "exist\n"
     ]
    }
   ],
   "source": [
    "def f(x):\n",
    "    for i in range(3,12):\n",
    "        if x == i:\n",
    "            print(\"exist\")\n",
    "        \n",
    "f(int(input(\"enter number:\")))"
   ]
  },
  {
   "cell_type": "markdown",
   "metadata": {},
   "source": [
    "### Write a  program to create the multiplication table (from 1 to 10) of a number."
   ]
  },
  {
   "cell_type": "code",
   "execution_count": 37,
   "metadata": {},
   "outputs": [
    {
     "name": "stdout",
     "output_type": "stream",
     "text": [
      "0\n",
      "5\n",
      "10\n",
      "15\n",
      "20\n",
      "25\n",
      "30\n",
      "35\n",
      "40\n",
      "45\n",
      "50\n"
     ]
    }
   ],
   "source": [
    "def f(x):\n",
    "    for i in range(0,11):\n",
    "        y=x * i\n",
    "        print(y)\n",
    "f(5)"
   ]
  },
  {
   "cell_type": "markdown",
   "metadata": {},
   "source": [
    "#### LESSER OF TWO EVENS: Write a function that returns the lesser of two given numbers *if* both numbers are even, but returns the greater if one or both numbers are odd\n",
    "    lesser_of_two_evens(2,4) --> 2\n",
    "    lesser_of_two_evens(2,5) --> 5"
   ]
  },
  {
   "cell_type": "code",
   "execution_count": 49,
   "metadata": {},
   "outputs": [
    {
     "name": "stdout",
     "output_type": "stream",
     "text": [
      "please enter the first number2\n",
      "please input the second number2\n",
      "2\n"
     ]
    }
   ],
   "source": [
    "def lesser_of_two_evens(x,y):\n",
    "    if x % 2 == 0 and y % 2 == 0:\n",
    "        if x<y:\n",
    "            print(x)\n",
    "        else: \n",
    "            print(y)\n",
    "    else:\n",
    "        if x>y:\n",
    "            print(x)\n",
    "        else: \n",
    "            print(y)\n",
    "\n",
    "lesser_of_two_evens(int(input(\"please enter the first number\")),int(input(\"please input the second number\")))  "
   ]
  },
  {
   "cell_type": "markdown",
   "metadata": {},
   "source": [
    "#### ANIMAL CRACKERS: Write a function takes a two-word string and returns True if both words begin with same letter\n",
    "    animal_crackers('Levelheaded Llama') --> True\n",
    "    animal_crackers('Crazy Kangaroo') --> False"
   ]
  },
  {
   "cell_type": "code",
   "execution_count": 57,
   "metadata": {},
   "outputs": [
    {
     "name": "stdout",
     "output_type": "stream",
     "text": [
      "please enter two words: good dog\n",
      "False\n"
     ]
    }
   ],
   "source": [
    "def animal_crackers(x):\n",
    "    x=x.split()\n",
    "    if x[0][0] == x[1][0]:\n",
    "        print(\"True\")\n",
    "    else:\n",
    "        print (\"False\")\n",
    "animal_crackers(input(\"please enter two words: \"))"
   ]
  },
  {
   "cell_type": "markdown",
   "metadata": {},
   "source": [
    "#### MAKES TWENTY: Given two integers, return True if the sum of the integers is 20 *or* if one of the integers is 20. If not, return False\n",
    "\n",
    "    makes_twenty(20,10) --> True\n",
    "    makes_twenty(12,8) --> True\n",
    "    makes_twenty(2,3) --> False"
   ]
  },
  {
   "cell_type": "code",
   "execution_count": 67,
   "metadata": {},
   "outputs": [
    {
     "name": "stdout",
     "output_type": "stream",
     "text": [
      "please enter the first number: 5\n",
      "please enter the second number: 12\n",
      "False\n"
     ]
    }
   ],
   "source": [
    "def make_twenty(x,y):\n",
    "    if x + y == 20 or x == 20 or y == 20  :\n",
    "        print (\"True\")\n",
    "    else:\n",
    "        print(\"False\")\n",
    "make_twenty(int(input(\"please enter the first number: \")), int(input(\"please enter the second number: \")))"
   ]
  },
  {
   "cell_type": "markdown",
   "metadata": {},
   "source": [
    "#### ALMOST THERE: Given an integer n, return True if n is within 10 of either 100 or 200\n",
    "\n",
    "    almost_there(90) --> True\n",
    "    almost_there(104) --> True\n",
    "    almost_there(150) --> False\n",
    "    almost_there(209) --> True\n",
    "    \n",
    "NOTE: `abs(num)` returns the absolute value of a number"
   ]
  },
  {
   "cell_type": "code",
   "execution_count": 79,
   "metadata": {},
   "outputs": [
    {
     "name": "stdout",
     "output_type": "stream",
     "text": [
      "Please enter the number: 207\n",
      "True\n"
     ]
    }
   ],
   "source": [
    "def almost_there(x):\n",
    "    if abs(x - 100) <= 10 or abs(x -200) <= 10:\n",
    "        print(\"True\")\n",
    "    else:\n",
    "        print(\"False\")\n",
    "almost_there(int(input(\"Please enter the number: \")))"
   ]
  },
  {
   "cell_type": "markdown",
   "metadata": {},
   "source": [
    "#### BLACKJACK: Given three integers between 1 and 11, if their sum is less than or equal to 21, return their sum. If their sum exceeds 21 *and* there's an eleven, reduce the total sum by 10. Finally, if the sum  exceeds 21, return 'BUST'\n",
    "    blackjack(5,6,7) --> 18\n",
    "    blackjack(9,9,9) --> 'BUST'\n",
    "    blackjack(9,9,11) --> 19"
   ]
  },
  {
   "cell_type": "code",
   "execution_count": 107,
   "metadata": {},
   "outputs": [
    {
     "name": "stdout",
     "output_type": "stream",
     "text": [
      "please enter the first cards: 11\n",
      "please enter the second card: 5\n",
      "please enter the third card: 11\n",
      "17\n"
     ]
    }
   ],
   "source": [
    "def blackjack(x,y,z):\n",
    "    q= x + y + z\n",
    "    if q <= 21:\n",
    "        print(q)\n",
    "    \n",
    "    elif  x == 11 or y == 11 or z == 11:\n",
    "        q=q-10\n",
    "        if q <= 21:\n",
    "                print(q)\n",
    "        else:\n",
    "                print(\"Bust\")\n",
    "    else:\n",
    "        print(\"Bust\")\n",
    "blackjack(int(input(\"please enter the first cards: \")),int(input(\"please enter the second card: \")),int(input(\"please enter the third card: \")))"
   ]
  },
  {
   "cell_type": "code",
   "execution_count": null,
   "metadata": {},
   "outputs": [],
   "source": []
  }
 ],
 "metadata": {
  "kernelspec": {
   "display_name": "Python 3 (ipykernel)",
   "language": "python",
   "name": "python3"
  },
  "language_info": {
   "codemirror_mode": {
    "name": "ipython",
    "version": 3
   },
   "file_extension": ".py",
   "mimetype": "text/x-python",
   "name": "python",
   "nbconvert_exporter": "python",
   "pygments_lexer": "ipython3",
   "version": "3.9.7"
  }
 },
 "nbformat": 4,
 "nbformat_minor": 2
}
